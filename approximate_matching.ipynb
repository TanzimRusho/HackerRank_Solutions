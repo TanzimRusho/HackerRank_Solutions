{
  "nbformat": 4,
  "nbformat_minor": 0,
  "metadata": {
    "colab": {
      "name": "approximate_matching.ipynb",
      "provenance": [],
      "authorship_tag": "ABX9TyMxMCKxnFS5tcmqtl0z6I4a",
      "include_colab_link": true
    },
    "kernelspec": {
      "name": "python3",
      "display_name": "Python 3"
    },
    "language_info": {
      "name": "python"
    }
  },
  "cells": [
    {
      "cell_type": "markdown",
      "metadata": {
        "id": "view-in-github",
        "colab_type": "text"
      },
      "source": [
        "<a href=\"https://colab.research.google.com/github/TanzimRusho/Hackerrank/blob/main/approximate_matching.ipynb\" target=\"_parent\"><img src=\"https://colab.research.google.com/assets/colab-badge.svg\" alt=\"Open In Colab\"/></a>"
      ]
    },
    {
      "cell_type": "code",
      "metadata": {
        "colab": {
          "base_uri": "https://localhost:8080/"
        },
        "id": "L6F8_hWYWXav",
        "outputId": "a74f5967-1648-4084-99fa-477775d151dd"
      },
      "source": [
        "def reverse(text):\n",
        "    s = \"\"\n",
        "    for ch in text:\n",
        "        s = ch + s\n",
        "    \n",
        "    return s\n",
        "\n",
        "def calculatePrefixScore(text, prefixString):\n",
        "    prefix = \"\"\n",
        "    prefixScore = 0\n",
        "\n",
        "    for char in reverse(prefixString):\n",
        "        prefix += char        \n",
        "        #print(reverse(prefix))\n",
        "        for num in range(len(text)):\n",
        "            if text[num:].startswith(reverse(prefix)):\n",
        "                prefixScore = len(prefix)\n",
        "                max_prefix = reverse(prefix)\n",
        "                \n",
        "    print(prefixScore)\n",
        "    return max_prefix\n",
        "\n",
        "def calculateScore(text, prefixString, suffixString):\n",
        "    prefix = calculatePrefixScore(text, prefixString)\n",
        "    #print(prefix)\n",
        "    suffix = calculateSuffixScore(text, suffixString)\n",
        "    substring = prefix + suffix\n",
        "    \n",
        "    return substring\n",
        "\n",
        "    \n",
        "def calculateSuffixScore(text, suffixString):\n",
        "    suffix = \"\"\n",
        "    suffixScore = 0\n",
        "\n",
        "    for char in suffixString:\n",
        "        suffix += char        \n",
        "        #print(reverse(prefix))\n",
        "        for num in range(len(text)):\n",
        "            if text[num:].startswith(suffix):\n",
        "                suffixScore = len(suffix)\n",
        "                max_suffix = suffix\n",
        "\n",
        "    print(suffixScore)\n",
        "    return max_suffix\n",
        "\n",
        "if __name__ == \"__main__\":\n",
        "    text = str(input())\n",
        "    prefixString = input()\n",
        "    suffixString = input()\n",
        "\n",
        "    substring = calculateScore(text, prefixString, suffixString)\n",
        "    print(substring)"
      ],
      "execution_count": null,
      "outputs": [
        {
          "output_type": "stream",
          "text": [
            "nothing\n",
            "bruno\n",
            "ingenious\n",
            "2\n",
            "3\n",
            "noing\n"
          ],
          "name": "stdout"
        }
      ]
    }
  ]
}