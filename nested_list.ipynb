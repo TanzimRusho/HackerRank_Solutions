{
  "nbformat": 4,
  "nbformat_minor": 0,
  "metadata": {
    "colab": {
      "name": "nested_list.ipynb",
      "provenance": [],
      "authorship_tag": "ABX9TyPODi++4JCS980oXyurD4hI",
      "include_colab_link": true
    },
    "kernelspec": {
      "name": "python3",
      "display_name": "Python 3"
    },
    "language_info": {
      "name": "python"
    }
  },
  "cells": [
    {
      "cell_type": "markdown",
      "metadata": {
        "id": "view-in-github",
        "colab_type": "text"
      },
      "source": [
        "<a href=\"https://colab.research.google.com/github/TanzimRusho/Hackerrank/blob/main/nested_list.ipynb\" target=\"_parent\"><img src=\"https://colab.research.google.com/assets/colab-badge.svg\" alt=\"Open In Colab\"/></a>"
      ]
    },
    {
      "cell_type": "code",
      "metadata": {
        "colab": {
          "base_uri": "https://localhost:8080/"
        },
        "id": "dEhTaaXMSWs3",
        "outputId": "c1a31802-b414-4923-b531-d16680d083bd"
      },
      "source": [
        "def second_lowest(nested):\n",
        "    #name = []\n",
        "    #score = []\n",
        "    min_score = 1000.0\n",
        "    for elem in nested:\n",
        "        #name.append(elem[0])\n",
        "        #score.append(elem[1])\n",
        "        if elem[1] < min_score:\n",
        "            min_score = elem[1]\n",
        "\n",
        "    new_list = []  \n",
        "    for elem in nested:\n",
        "        if elem[1] > min_score:\n",
        "            new_list.append(elem)\n",
        "\n",
        "    #print(new_list)\n",
        "    name = []\n",
        "    score = []\n",
        "    \n",
        "    for elem in new_list:\n",
        "        score.append(elem[1])\n",
        "\n",
        "    for elem in new_list:\n",
        "        if elem[1] == min(score):\n",
        "            name.append(elem[0])\n",
        "\n",
        "    name = sorted(name)\n",
        "\n",
        "    for elem in name:\n",
        "        print(elem)\n",
        "    \n",
        "if __name__ == '__main__':\n",
        "    name = []\n",
        "    score = []\n",
        "    for _ in range(int(input())):\n",
        "        name.append(input())\n",
        "        score.append(float(input()))\n",
        "    \n",
        "    nested = []    \n",
        "    for i, j in zip(name, score):\n",
        "        nested.append([i, j])\n",
        "        \n",
        "    second_lowest(nested)"
      ],
      "execution_count": null,
      "outputs": [
        {
          "output_type": "stream",
          "text": [
            "5\n",
            "sakib\n",
            "23.5\n",
            "ratul\n",
            "23.5\n",
            "suman\n",
            "23\n",
            "ron\n",
            "28\n",
            "jamil\n",
            "45\n",
            "ratul\n",
            "sakib\n"
          ],
          "name": "stdout"
        }
      ]
    }
  ]
}